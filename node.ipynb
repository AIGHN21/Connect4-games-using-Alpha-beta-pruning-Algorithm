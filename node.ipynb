{
 "cells": [
  {
   "cell_type": "code",
   "execution_count": null,
   "id": "2236f31c",
   "metadata": {},
   "outputs": [],
   "source": [
    "import os\n",
    "\n",
    "def create_project_structure(base_path=\"src\"):\n",
    "    folders = [\n",
    "        base_path,\n",
    "        f\"{base_path}/board.py\",\n",
    "        f\"{base_path}/player.py\",\n",
    "        f\"{base_path}/main.py\",\n",
    "        f\"{base_path}/heuristic.py\",\n",
    "        f\"{base_path}/alpha-beta.py\"\n",
    "    ]\n",
    "    \n",
    "    for folder in folders:\n",
    "        os.makedirs(folder, exist_ok=True)\n",
    "        print(f\"✅ Created: {folder}\")\n",
    "\n",
    "if __name__ == \"__main__\":\n",
    "    create_project_structure()\n"
   ]
  }
 ],
 "metadata": {
  "language_info": {
   "name": "python"
  }
 },
 "nbformat": 4,
 "nbformat_minor": 5
}
